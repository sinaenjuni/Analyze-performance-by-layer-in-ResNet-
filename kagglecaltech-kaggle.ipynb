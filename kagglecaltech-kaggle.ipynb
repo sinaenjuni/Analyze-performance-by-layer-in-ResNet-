{
 "cells": [
  {
   "cell_type": "code",
   "execution_count": 1,
   "metadata": {
    "colab": {
     "base_uri": "https://localhost:8080/",
     "height": 400
    },
    "colab_type": "code",
    "executionInfo": {
     "elapsed": 1202,
     "status": "error",
     "timestamp": 1570361487866,
     "user": {
      "displayName": "신현준",
      "photoUrl": "",
      "userId": "13304283582787998571"
     },
     "user_tz": -540
    },
    "id": "Z3ZZDBmg1iDs",
    "outputId": "ecceb19d-3fbd-40e3-c3d4-c2a3f5b0b85a",
    "scrolled": true
   },
   "outputs": [
    {
     "name": "stderr",
     "output_type": "stream",
     "text": [
      "Using TensorFlow backend.\n"
     ]
    }
   ],
   "source": [
    "#import hyeonjun_cresnet\n",
    "import sys\n",
    "\n",
    "sys.path.insert(0,'../../data/Images/')\n",
    "sys.path.insert(0,'../../data/hyeon/')\n",
    "sys.path.insert(0,'../../data/hyeon_model_save/')\n",
    "sys.path.insert(0,'../../data/006958-master/')\n",
    "sys.path.insert(0,'../../data/knj/')\n",
    "sys.path.insert(0,'../../data/sw/')\n",
    "sys.path.insert(0,'../../data/Images/test/')\n",
    "\n",
    "from keras import Input\n",
    "from keras import optimizers, initializers, regularizers, metrics\n",
    "import math\n",
    "from keras.callbacks import ModelCheckpoint, EarlyStopping\n",
    "\n",
    "import os\n",
    "from keras.preprocessing.image import ImageDataGenerator\n",
    "import matplotlib.pyplot as plt\n",
    "import numpy as np\n",
    "import matplotlib.ticker as plticker"
   ]
  },
  {
   "cell_type": "code",
   "execution_count": 2,
   "metadata": {},
   "outputs": [],
   "source": [
    "master_dir = '/data/hyeon/save_files/kaggle1/'\n"
   ]
  },
  {
   "cell_type": "code",
   "execution_count": 3,
   "metadata": {
    "colab": {},
    "colab_type": "code",
    "id": "B504fjYL1iDw",
    "outputId": "7f8cd0b5-ba96-4706-e27f-0faff2408c73"
   },
   "outputs": [
    {
     "name": "stdout",
     "output_type": "stream",
     "text": [
      "/data/Images/Kaggle/cats_and_dogs/train\n",
      "/data/Images/Kaggle/cats_and_dogs/validation\n",
      "/data/Images/Kaggle/cats_and_dogs/test\n"
     ]
    }
   ],
   "source": [
    "base_dir='/data/Images/Kaggle/cats_and_dogs/'\n",
    "train_dir = os.path.join(base_dir, 'train')\n",
    "val_dir = os.path.join(base_dir, 'validation')\n",
    "test_dir = os.path.join(base_dir, 'test')\n",
    "print(train_dir)\n",
    "print(val_dir)\n",
    "print(test_dir)"
   ]
  },
  {
   "cell_type": "code",
   "execution_count": 4,
   "metadata": {
    "colab": {},
    "colab_type": "code",
    "id": "9rXq6uDw1iDz",
    "outputId": "233c2d8d-8498-462a-ec79-c73e0cb20e52"
   },
   "outputs": [
    {
     "name": "stdout",
     "output_type": "stream",
     "text": [
      "Found 2000 images belonging to 2 classes.\n",
      "Found 1000 images belonging to 2 classes.\n"
     ]
    }
   ],
   "source": [
    "train_datagen = ImageDataGenerator(rescale=1./255)\n",
    "val_datagen = ImageDataGenerator(rescale=1./255)\n",
    "\n",
    " \n",
    "train_generator = train_datagen.flow_from_directory(train_dir,\n",
    "                                                    batch_size=50,\n",
    "                                                    target_size=(224, 224), \n",
    "                                                    color_mode='rgb')\n",
    "\n",
    "val_generator = val_datagen.flow_from_directory(val_dir, \n",
    "                                                batch_size=50,\n",
    "                                                target_size=(224, 224), \n",
    "                                                color_mode='rgb')"
   ]
  },
  {
   "cell_type": "code",
   "execution_count": 5,
   "metadata": {
    "colab": {},
    "colab_type": "code",
    "id": "6J8Lu3Lz1iD1",
    "outputId": "d0de1b03-1cf5-4f29-ae84-cbdce1845ac0"
   },
   "outputs": [
    {
     "name": "stdout",
     "output_type": "stream",
     "text": [
      "Found 1000 images belonging to 2 classes.\n"
     ]
    }
   ],
   "source": [
    "test_datagen = ImageDataGenerator(rescale=1./255)\n",
    "\n",
    "test_generator = test_datagen.flow_from_directory(test_dir, \n",
    "                                                  batch_size = 50,\n",
    "                                                  target_size=(224, 224),\n",
    "                                                  color_mode='rgb')\n",
    "\n"
   ]
  },
  {
   "cell_type": "code",
   "execution_count": 6,
   "metadata": {
    "colab": {},
    "colab_type": "code",
    "id": "F0IOaBRn1iD_"
   },
   "outputs": [],
   "source": [
    "'''\n",
    "layer_list =[\n",
    "    \n",
    "        [[4,[4,4,4,4],1],True],\n",
    "        [[4,[2,2,2,2],2],True],\n",
    "        [[4,[1,1,1,1],4],True],\n",
    "        \n",
    "        [[4,[6,6,6,6],1],False],\n",
    "        [[4,[3,3,3,3],2],False],\n",
    "        [[4,[2,2,2,2],3],True],\n",
    "              \n",
    "        [[4,[8,8,8,8],1],False],\n",
    "        [[4,[4,4,4,4],2],False],\n",
    "        [[4,[2,2,2,2],4],True],\n",
    "        \n",
    "        [[4,[3,3,6,3],2],True],\n",
    "        [[4,[2,2,4,2],3],True],\n",
    "        \n",
    "        [[4,[4,4,6,4],2],True],\n",
    "        [[4,[2,2,3,2],4],True],\n",
    "    \n",
    "        [[4,[3,4,6,3],2],True]\n",
    "]\n",
    "\n",
    "'''\n",
    "\n",
    "\n",
    "layer_list =[\n",
    "    \n",
    "        [[4,[4,4,4,4],1],True],\n",
    "]\n",
    "\n"
   ]
  },
  {
   "cell_type": "code",
   "execution_count": 9,
   "metadata": {
    "colab": {},
    "colab_type": "code",
    "id": "E7kQAF7v1iEB"
   },
   "outputs": [],
   "source": [
    "model_list = []\n",
    "history_list = []\n",
    "import hyeonjun_cresnet123"
   ]
  },
  {
   "cell_type": "code",
   "execution_count": 12,
   "metadata": {
    "colab": {},
    "colab_type": "code",
    "id": "26RrIyQm1iED",
    "outputId": "16672e57-90a0-40e8-bd0f-4f5c1e67f68d"
   },
   "outputs": [
    {
     "name": "stdout",
     "output_type": "stream",
     "text": [
      "Tensor(\"input_1:0\", shape=(?, 224, 224, 3), dtype=float32)\n",
      "Tensor(\"activation_1/Relu:0\", shape=(?, 112, 112, 64), dtype=float32)\n",
      "Tensor(\"max_pooling2d_1/MaxPool:0\", shape=(?, 56, 56, 64), dtype=float32)\n",
      "----------------\n",
      "----------------\n",
      "2::64X64,1 : Tensor(\"batch_normalization_2/cond/Merge:0\", shape=(?, 56, 56, 64), dtype=float32)\n",
      "Tensor(\"max_pooling2d_1/MaxPool:0\", shape=(?, 56, 56, 64), dtype=float32)\n",
      "Tensor(\"add_1/add:0\", shape=(?, 56, 56, 64), dtype=float32)\n",
      "Tensor(\"activation_2/Relu:0\", shape=(?, 56, 56, 64), dtype=float32)\n",
      "----------------\n",
      "3::64X64,1 : Tensor(\"batch_normalization_3/cond/Merge:0\", shape=(?, 56, 56, 64), dtype=float32)\n",
      "Tensor(\"activation_2/Relu:0\", shape=(?, 56, 56, 64), dtype=float32)\n",
      "Tensor(\"add_2/add:0\", shape=(?, 56, 56, 64), dtype=float32)\n",
      "Tensor(\"activation_3/Relu:0\", shape=(?, 56, 56, 64), dtype=float32)\n",
      "----------------\n",
      "4::64X64,1 : Tensor(\"batch_normalization_4/cond/Merge:0\", shape=(?, 56, 56, 64), dtype=float32)\n",
      "Tensor(\"activation_3/Relu:0\", shape=(?, 56, 56, 64), dtype=float32)\n",
      "Tensor(\"add_3/add:0\", shape=(?, 56, 56, 64), dtype=float32)\n",
      "Tensor(\"activation_4/Relu:0\", shape=(?, 56, 56, 64), dtype=float32)\n",
      "----------------\n",
      "5::64X64,1 : Tensor(\"batch_normalization_5/cond/Merge:0\", shape=(?, 56, 56, 64), dtype=float32)\n",
      "Tensor(\"activation_4/Relu:0\", shape=(?, 56, 56, 64), dtype=float32)\n",
      "Tensor(\"add_4/add:0\", shape=(?, 56, 56, 64), dtype=float32)\n",
      "Tensor(\"activation_5/Relu:0\", shape=(?, 56, 56, 64), dtype=float32)\n",
      "----------------\n",
      "----------------\n",
      "6::128X128,2 : Tensor(\"batch_normalization_6/cond/Merge:0\", shape=(?, 28, 28, 128), dtype=float32)\n",
      "Tensor(\"batch_normalization_7/cond/Merge:0\", shape=(?, 28, 28, 128), dtype=float32)\n",
      "Tensor(\"add_5/add:0\", shape=(?, 28, 28, 128), dtype=float32)\n",
      "Tensor(\"activation_6/Relu:0\", shape=(?, 28, 28, 128), dtype=float32)\n",
      "----------------\n",
      "7::128X128,1 : Tensor(\"batch_normalization_8/cond/Merge:0\", shape=(?, 28, 28, 128), dtype=float32)\n",
      "Tensor(\"activation_6/Relu:0\", shape=(?, 28, 28, 128), dtype=float32)\n",
      "Tensor(\"add_6/add:0\", shape=(?, 28, 28, 128), dtype=float32)\n",
      "Tensor(\"activation_7/Relu:0\", shape=(?, 28, 28, 128), dtype=float32)\n",
      "----------------\n",
      "8::128X128,1 : Tensor(\"batch_normalization_9/cond/Merge:0\", shape=(?, 28, 28, 128), dtype=float32)\n",
      "Tensor(\"activation_7/Relu:0\", shape=(?, 28, 28, 128), dtype=float32)\n",
      "Tensor(\"add_7/add:0\", shape=(?, 28, 28, 128), dtype=float32)\n",
      "Tensor(\"activation_8/Relu:0\", shape=(?, 28, 28, 128), dtype=float32)\n",
      "----------------\n",
      "9::128X128,1 : Tensor(\"batch_normalization_10/cond/Merge:0\", shape=(?, 28, 28, 128), dtype=float32)\n",
      "Tensor(\"activation_8/Relu:0\", shape=(?, 28, 28, 128), dtype=float32)\n",
      "Tensor(\"add_8/add:0\", shape=(?, 28, 28, 128), dtype=float32)\n",
      "Tensor(\"activation_9/Relu:0\", shape=(?, 28, 28, 128), dtype=float32)\n",
      "----------------\n",
      "----------------\n",
      "10::256X256,2 : Tensor(\"batch_normalization_11/cond/Merge:0\", shape=(?, 14, 14, 256), dtype=float32)\n",
      "Tensor(\"batch_normalization_12/cond/Merge:0\", shape=(?, 14, 14, 256), dtype=float32)\n",
      "Tensor(\"add_9/add:0\", shape=(?, 14, 14, 256), dtype=float32)\n",
      "Tensor(\"activation_10/Relu:0\", shape=(?, 14, 14, 256), dtype=float32)\n",
      "----------------\n",
      "11::256X256,1 : Tensor(\"batch_normalization_13/cond/Merge:0\", shape=(?, 14, 14, 256), dtype=float32)\n",
      "Tensor(\"activation_10/Relu:0\", shape=(?, 14, 14, 256), dtype=float32)\n",
      "Tensor(\"add_10/add:0\", shape=(?, 14, 14, 256), dtype=float32)\n",
      "Tensor(\"activation_11/Relu:0\", shape=(?, 14, 14, 256), dtype=float32)\n",
      "----------------\n",
      "12::256X256,1 : Tensor(\"batch_normalization_14/cond/Merge:0\", shape=(?, 14, 14, 256), dtype=float32)\n",
      "Tensor(\"activation_11/Relu:0\", shape=(?, 14, 14, 256), dtype=float32)\n",
      "Tensor(\"add_11/add:0\", shape=(?, 14, 14, 256), dtype=float32)\n",
      "Tensor(\"activation_12/Relu:0\", shape=(?, 14, 14, 256), dtype=float32)\n",
      "----------------\n",
      "13::256X256,1 : Tensor(\"batch_normalization_15/cond/Merge:0\", shape=(?, 14, 14, 256), dtype=float32)\n",
      "Tensor(\"activation_12/Relu:0\", shape=(?, 14, 14, 256), dtype=float32)\n",
      "Tensor(\"add_12/add:0\", shape=(?, 14, 14, 256), dtype=float32)\n",
      "Tensor(\"activation_13/Relu:0\", shape=(?, 14, 14, 256), dtype=float32)\n",
      "----------------\n",
      "----------------\n",
      "14::512X512,2 : Tensor(\"batch_normalization_16/cond/Merge:0\", shape=(?, 7, 7, 512), dtype=float32)\n",
      "Tensor(\"batch_normalization_17/cond/Merge:0\", shape=(?, 7, 7, 512), dtype=float32)\n",
      "Tensor(\"add_13/add:0\", shape=(?, 7, 7, 512), dtype=float32)\n",
      "Tensor(\"activation_14/Relu:0\", shape=(?, 7, 7, 512), dtype=float32)\n",
      "----------------\n",
      "15::512X512,1 : Tensor(\"batch_normalization_18/cond/Merge:0\", shape=(?, 7, 7, 512), dtype=float32)\n",
      "Tensor(\"activation_14/Relu:0\", shape=(?, 7, 7, 512), dtype=float32)\n",
      "Tensor(\"add_14/add:0\", shape=(?, 7, 7, 512), dtype=float32)\n",
      "Tensor(\"activation_15/Relu:0\", shape=(?, 7, 7, 512), dtype=float32)\n",
      "----------------\n",
      "16::512X512,1 : Tensor(\"batch_normalization_19/cond/Merge:0\", shape=(?, 7, 7, 512), dtype=float32)\n",
      "Tensor(\"activation_15/Relu:0\", shape=(?, 7, 7, 512), dtype=float32)\n",
      "Tensor(\"add_15/add:0\", shape=(?, 7, 7, 512), dtype=float32)\n",
      "Tensor(\"activation_16/Relu:0\", shape=(?, 7, 7, 512), dtype=float32)\n",
      "----------------\n",
      "17::512X512,1 : Tensor(\"batch_normalization_20/cond/Merge:0\", shape=(?, 7, 7, 512), dtype=float32)\n",
      "Tensor(\"activation_16/Relu:0\", shape=(?, 7, 7, 512), dtype=float32)\n",
      "Tensor(\"add_16/add:0\", shape=(?, 7, 7, 512), dtype=float32)\n",
      "Tensor(\"activation_17/Relu:0\", shape=(?, 7, 7, 512), dtype=float32)\n",
      "Tensor(\"global_average_pooling2d_1/Mean:0\", shape=(?, 512), dtype=float32)\n"
     ]
    }
   ],
   "source": [
    "\n",
    "model_list = [hyeonjun_cresnet123.resnet((224,224,3), x[0], num_classes=2, isNumFilers=x[1]) for x in layer_list]\n"
   ]
  },
  {
   "cell_type": "code",
   "execution_count": 13,
   "metadata": {
    "colab": {},
    "colab_type": "code",
    "id": "NFp2qx611iEF",
    "outputId": "893c14b5-67d3-4330-c815-7c90348131e8"
   },
   "outputs": [
    {
     "name": "stdout",
     "output_type": "stream",
     "text": [
      "Epoch 1/200\n",
      "40/40 [==============================] - 20s 512ms/step - loss: 1.5612 - acc: 0.5765 - val_loss: 1.4135 - val_acc: 0.6410\n",
      "Epoch 2/200\n",
      "40/40 [==============================] - 10s 260ms/step - loss: 1.2933 - acc: 0.7530 - val_loss: 1.7474 - val_acc: 0.5250\n",
      "Epoch 3/200\n",
      "40/40 [==============================] - 9s 233ms/step - loss: 1.1633 - acc: 0.8450 - val_loss: 2.9058 - val_acc: 0.5000\n",
      "Epoch 4/200\n",
      "40/40 [==============================] - 10s 244ms/step - loss: 0.9925 - acc: 0.9300 - val_loss: 1.5481 - val_acc: 0.6770\n",
      "Epoch 5/200\n",
      "40/40 [==============================] - 9s 237ms/step - loss: 0.8705 - acc: 0.9745 - val_loss: 1.8077 - val_acc: 0.6470\n",
      "Epoch 6/200\n",
      "40/40 [==============================] - 9s 224ms/step - loss: 0.8394 - acc: 0.9815 - val_loss: 7.1032 - val_acc: 0.5000\n",
      "Epoch 7/200\n",
      "40/40 [==============================] - 8s 202ms/step - loss: 0.8014 - acc: 0.9915 - val_loss: 2.9626 - val_acc: 0.6120\n",
      "Epoch 8/200\n",
      "40/40 [==============================] - 8s 195ms/step - loss: 0.8111 - acc: 0.9845 - val_loss: 1.8848 - val_acc: 0.6890\n",
      "Epoch 9/200\n",
      "40/40 [==============================] - 8s 202ms/step - loss: 0.7957 - acc: 0.9925 - val_loss: 2.9394 - val_acc: 0.5990\n",
      "Epoch 10/200\n",
      "40/40 [==============================] - 8s 205ms/step - loss: 0.7848 - acc: 0.9930 - val_loss: 2.9432 - val_acc: 0.6280\n",
      "Epoch 11/200\n",
      "40/40 [==============================] - 10s 248ms/step - loss: 0.7950 - acc: 0.9875 - val_loss: 5.4040 - val_acc: 0.5140\n"
     ]
    }
   ],
   "source": [
    "history_list = []\n",
    "\n",
    "for model in model_list:\n",
    "    base_dir = f\"{master_dir}checkpoint/{model[1]}_{model[2]}_checkpoint.h5\"\n",
    "    check_dir = os.path.dirname(base_dir)\n",
    "    check_file = os.path.basename(base_dir)\n",
    "    full_path = os.path.join(check_dir, check_file)\n",
    "\n",
    "    try:\n",
    "        os.makedirs(check_dir)\n",
    "    except:\n",
    "        if not os.path.isdir(check_dir):\n",
    "            raise\n",
    "    \n",
    "    checkpoint = ModelCheckpoint(filepath=full_path, \n",
    "            monitor='val_loss', \n",
    "            mode='min', \n",
    "            save_best_only=True)\n",
    "\n",
    "\n",
    "    earlystopping = EarlyStopping(monitor='val_loss',\n",
    "                              mode='auto',\n",
    "                              patience=10)\n",
    "    \n",
    "\n",
    "    model[0].compile(loss='categorical_crossentropy', \n",
    "                     optimizer=optimizers.RMSprop(lr=5e-5), \n",
    "                     metrics=['acc'])\n",
    "\n",
    "\n",
    "    history_list.append(model[0].fit_generator(train_generator, \n",
    "                steps_per_epoch=math.ceil(train_generator.n / train_generator.batch_size), \n",
    "                epochs=200, \n",
    "                validation_data= val_generator, \n",
    "                validation_steps=math.ceil(val_generator.n / val_generator.batch_size), \n",
    "                callbacks=[checkpoint, earlystopping]))\n"
   ]
  },
  {
   "cell_type": "code",
   "execution_count": 15,
   "metadata": {
    "colab": {},
    "colab_type": "code",
    "id": "nrziYIii1iEH",
    "outputId": "8dd7ce75-46b1-4d2e-d1d8-03ab59e44b4c",
    "scrolled": false
   },
   "outputs": [
    {
     "name": "stdout",
     "output_type": "stream",
     "text": [
      "/data/hyeon/save_files/kaggle1/summary/18_[4, [4, 4, 4, 4], 1]_summary.txt\n",
      "/data/hyeon/save_files/kaggle1/result_image/18_[4, [4, 4, 4, 4], 1]_image.png\n"
     ]
    },
    {
     "data": {
      "image/png": "[encoded data removed]",
      "text/plain": [
       "<Figure size 720x288 with 2 Axes>"
      ]
     },
     "metadata": {
      "needs_background": "light"
     },
     "output_type": "display_data"
    },
    {
     "name": "stdout",
     "output_type": "stream",
     "text": [
      "/data/hyeon/save_files/kaggle1/model/18_[4, [4, 4, 4, 4], 1]_model.json\n",
      "/data/hyeon/save_files/kaggle1/weight/18_[4, [4, 4, 4, 4], 1]_weight.h5\n",
      "/data/hyeon/save_files/kaggle1/history/_history.txt\n",
      "[18_[4, [4, 4, 4, 4], 1]] \t 57.60%\n"
     ]
    }
   ],
   "source": [
    "import hyeonjun_cresnet123\n",
    "hyeonjun_cresnet.save_model_summary_list(model_list, master_dir)\n",
    "hyeonjun_cresnet.save_result_image_list(model_list, history_list, master_dir)\n",
    "hyeonjun_cresnet.save_model_list(model_list, master_dir)\n",
    "hyeonjun_cresnet.save_weight_list(model_list, master_dir)\n",
    "hyeonjun_cresnet.save_history(model_list, history_list, master_dir)\n",
    "hyeonjun_cresnet.model_evaluate(model_list, test_generator, master_dir)"
   ]
  },
  {
   "cell_type": "code",
   "execution_count": null,
   "metadata": {
    "colab": {},
    "colab_type": "code",
    "id": "z0lzLQUo1iEU"
   },
   "outputs": [],
   "source": []
  },
  {
   "cell_type": "code",
   "execution_count": null,
   "metadata": {
    "colab": {},
    "colab_type": "code",
    "id": "WnS_urrc1iEV"
   },
   "outputs": [],
   "source": []
  },
  {
   "cell_type": "code",
   "execution_count": null,
   "metadata": {
    "colab": {},
    "colab_type": "code",
    "id": "EZJVdy8g1iEX"
   },
   "outputs": [],
   "source": []
  },
  {
   "cell_type": "code",
   "execution_count": null,
   "metadata": {
    "colab": {},
    "colab_type": "code",
    "id": "XKhk7pHK1iEZ"
   },
   "outputs": [],
   "source": []
  }
 ],
 "metadata": {
  "colab": {
   "name": "kagglecaltech.ipynb",
   "provenance": []
  },
  "kernelspec": {
   "display_name": "Python 3",
   "language": "python",
   "name": "python3"
  },
  "language_info": {
   "codemirror_mode": {
    "name": "ipython",
    "version": 3
   },
   "file_extension": ".py",
   "mimetype": "text/x-python",
   "name": "python",
   "nbconvert_exporter": "python",
   "pygments_lexer": "ipython3",
   "version": "3.6.9"
  }
 },
 "nbformat": 4,
 "nbformat_minor": 1
}
